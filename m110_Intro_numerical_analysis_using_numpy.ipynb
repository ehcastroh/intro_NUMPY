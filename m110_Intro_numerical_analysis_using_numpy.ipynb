{
 "cells": [
  {
   "cell_type": "code",
   "execution_count": null,
   "metadata": {},
   "outputs": [],
   "source": []
  },
  {
   "cell_type": "markdown",
   "metadata": {
    "slideshow": {
     "slide_type": "slide"
    }
   },
   "source": [
    "<hr style=\"border: 6px solid#003262;\" />\n",
    "\n",
    "<div align=\"center\">\n",
    "    <img src= \"/assets/content/datax_logos/DataX_blue_wide_logo.png\" align=\"center\" width=\"100%\">\n",
    "</div>\n",
    "\n",
    "\n",
    "<br>\n",
    "\n",
    "# **NUMPY (m110):** INTRODUCTION TO NUMERICAL ANALYSIS USING NUMPY\n",
    "\n",
    "<br>\n",
    "\n",
    "\n",
    "**Author List (in no particular order):** [Yash Wagh](https://www.linkedin.com/in/ywagh/), [Debbie Yuen](http://www.debbiecyuen.me/), [Alexander Fred-Ojala](https://www.linkedin.com/in/alexanderfo/), [Ikhlaq Sidhu](https://ikhlaq-sidhu.com/), and [Elias Castro Hernandez](https://www.linkedin.com/in/ehcastroh/)  \n",
    "\n",
    "**About (TL/DR):** The following notebook introduces developers and data scientists to numerical analysis and data manipulation using NumPy. NumPy is the numerical analysis backbone to several popular open source analysis and machine learning packages. \n",
    "\n",
    "**Learning Goal(s):** Gain an understanding of Numpy's syntax, data structures, and data manipulation capabilities.\n",
    "\n",
    "**Associated Materials:** None\n",
    "\n",
    "**Keywords (Tags):** numpy, numpy-tutorial, numerical-analysis, ndarray, array-programming, array-broadcasting, numerical-python, data-x, uc-berkeley-engineering\n",
    "\n",
    "**Prerequisite Knowledge:** (1) Python, (2) Matplotlib\n",
    "\n",
    "**Target User:** Data scientists, applied machine learning engineers, and developers\n",
    "\n",
    "**Copyright:** Content curation has been used to expedite the creation of the following learning materials. Credit and copyright belong to the content creators used in facilitating this content. Please support the creators of the resources used by frequenting their sites, and social media.\n"
   ]
  },
  {
   "cell_type": "markdown",
   "metadata": {},
   "source": [
    "<hr style=\"border: 4px solid#003262;\" />\n",
    "\n",
    "<a name='Part_table_contents' id=\"Part_table_contents\"></a>"
   ]
  },
  {
   "cell_type": "markdown",
   "metadata": {
    "slideshow": {
     "slide_type": "subslide"
    }
   },
   "source": [
    "\n",
    "\n",
    "#### CONTENTS\n",
    "\n",
    "> #### [PART 0: ABOUT AND MOTIVATION](#Part_0)\n",
    "> #### [PART 1: NUMPY ARRAY CREATION](#Part_1)\n",
    "> #### [PART 2: ACCESSING, DATA MANIPULATION, AND OPERATIONS](#Part_2)\n",
    "> #### [PART 3: WRAP UP AND NEXT STEPS](#Part_3)"
   ]
  },
  {
   "cell_type": "markdown",
   "metadata": {},
   "source": [
    "#### APPENDIX\n",
    "\n",
    "> #### [PREREQUISITE KNOWLEDGE AND REQUIREMENTS](#Appendix_1)\n",
    "> #### [REFERENCES AND ADDITIONAL RESOURCES](#Appendix_2)\n",
    "\n",
    "<br>\n"
   ]
  },
  {
   "cell_type": "markdown",
   "metadata": {},
   "source": [
    "<a id='Part_0'></a>\n",
    "\n",
    "<hr style=\"border: 2px solid#003262;\" />\n",
    "\n",
    "#### PART 0\n",
    "\n",
    "## **ABOUT** AND **MOTIVATION** NEED VIDEO FROM DEBBIE"
   ]
  },
  {
   "cell_type": "markdown",
   "metadata": {},
   "source": [
    "<div align=\"center\" style=\"font-size:12px; font-family:FreeMono; font-weight: 100; font-stretch:ultra-condensed; line-height: 1.0; color:#2A2C2B\">\n",
    "  <a href=\"\">\n",
    "    <img src=\"assets/content/images/numPY_thumbnail_play-01.png\" align=\"center\" width=\"50%\" padding=\"10px\"/>\n",
    "  </a><br>\n",
    "</div>"
   ]
  },
  {
   "cell_type": "markdown",
   "metadata": {},
   "source": [
    "<a id='Part_1'></a>\n",
    "\n",
    "<hr style=\"border: 2px solid#003262;\" />\n",
    "\n",
    "#### PART 1\n",
    "\n",
    "## **NUMPY** ARRAY **CREATION**\n",
    "\n",
    "\n",
    "<div align=\"center\" style=\"font-size:12px; font-family:FreeMono; font-weight: 100; font-stretch:ultra-condensed; line-height: 1.0; color:#2A2C2B\">\n",
    "    <img src=\"/assets/content/images/numpy_logo.jpg\" align=\"center\" width=\"25%\" padding=\"0px\"><br>\n",
    "    <br>\n",
    "    \n",
    "</div>\n",
    "\n",
    "<br>\n",
    "\n",
    "<br>\n",
    "\n",
    "[**NumPy**](https://numpy.org/) is an extremely popular open source library for scientific computing (SC), and the core of SC in Python. [**NumPy's array**](https://numpy.org/doc/stable/user/basics.html) is a high-performance multidimensional array object, and the topic of this section.\n",
    "\n",
    "<strong style=\"color:red\">KEY CONSIDERATION:</strong> Some of the following content may be written for machines running on Linux or Mac operating systems. If you are working on a Windows machine, you will need to enable the Linux Bash Shell, or adjust Shell commands to PowerShell syntax. A tutorial on how to enable the Linux Bash Shell on Windows 10 can be found [here](https://youtu.be/xzgwDbe7foQ).\n",
    "\n",
    "\n",
    "#### CONTENTS:\n",
    "\n",
    "> [PART 1.1: INTRODUCING NUMPY ARRAYS](#Part_1_1)<br>\n",
    "> [PART 1.2: ARRAY CONSTRUCTION - CREATING NUMPY ARRAYS](#Part_1_2)<br>\n",
    "> [PART 1.3: MULTI-DIMENSIONAL ARRAYS](#Part_1_3)"
   ]
  },
  {
   "cell_type": "markdown",
   "metadata": {},
   "source": [
    "<a id='Part_1_1'></a>\n",
    "\n",
    "<hr style=\"border: 1px solid#003262;\" />\n",
    "\n",
    "#### PART 1.1: INTRODUCING NUMPY ARRAYS\n",
    "\n",
    "<br>\n",
    "\n",
    "<div align=\"center\" style=\"font-size:12px; font-family:FreeMono; font-weight: 100; font-stretch:ultra-condensed; line-height: 1.0; color:#2A2C2B\">\n",
    "    <img src=\"/assets/content/images/numpgraphs-02.png\" align=\"center\" width=\"40%\" padding=\"10\"><br>\n",
    "    <br>\n",
    "</div>\n",
    "\n",
    "<br>\n",
    "\n",
    "#### **Introducing the NumPy Array**\n",
    "\n",
    "A NumPy array is a grid of values of the same [**data type**](https://numpy.org/doc/stable/user/basics.types.html#data-types), that is indexed by a tuple of nonnegative numbers. In NumPy, dimensions are called **axes** and the number of axes is called a **rank** -- **shape** is the size of the array along each axes. "
   ]
  },
  {
   "cell_type": "markdown",
   "metadata": {},
   "source": [
    "___\n",
    "\n",
    "##### **Install NumPy**\n",
    "\n",
    "https://scipy.org/install.html\n",
    "\n",
    "```bash\n",
    "# Using pip to install required packages, including NumPy\n",
    "$ python -m pip install --user numpy scipy matplotlib ipython jupyter pandas sympy nose \n",
    "```\n",
    "\n",
    "___"
   ]
  },
  {
   "cell_type": "markdown",
   "metadata": {},
   "source": [
    "<a id='Part_1_2'></a>\n",
    "\n",
    "<hr style=\"border: 1px solid#003262;\" />\n",
    "\n",
    "#### PART 1.2: NUMPY ARRAY CREATION\n",
    "\n",
    "<br>\n",
    "\n",
    "<div align=\"center\" style=\"font-size:12px; font-family:FreeMono; font-weight: 100; font-stretch:ultra-condensed; line-height: 1.0; color:#2A2C2B\">\n",
    "    <img src=\"/assets/content/images/nump_edits-10.png\" align=\"center\" width=\"40%\" padding=\"0px\"><br>\n",
    "    <br>\n",
    "    2D Array\n",
    "</div>"
   ]
  },
  {
   "cell_type": "markdown",
   "metadata": {},
   "source": [
    "#### **1.2.0 Load Packages/Libraries**\n",
    "\n",
    "___"
   ]
  },
  {
   "cell_type": "code",
   "execution_count": 64,
   "metadata": {},
   "outputs": [],
   "source": [
    "# NumPy\n",
    "import numpy as np"
   ]
  },
  {
   "cell_type": "markdown",
   "metadata": {},
   "source": [
    "#### **1.2.1 Array Construction - Creating NumPy Arrays**\n",
    "\n",
    "___"
   ]
  },
  {
   "cell_type": "markdown",
   "metadata": {},
   "source": [
    "#### **Array from List**"
   ]
  },
  {
   "cell_type": "code",
   "execution_count": 8,
   "metadata": {},
   "outputs": [
    {
     "data": {
      "text/plain": [
       "array([1, 2, 3, 4])"
      ]
     },
     "execution_count": 8,
     "metadata": {},
     "output_type": "execute_result"
    }
   ],
   "source": [
    "# Create array from Python list\n",
    "list1 = [1, 2, 3, 4]\n",
    "a = np.array(list1)\n",
    "a"
   ]
  },
  {
   "cell_type": "code",
   "execution_count": 32,
   "metadata": {},
   "outputs": [
    {
     "name": "stdout",
     "output_type": "stream",
     "text": [
      "\n",
      "Array data type:  <class 'numpy.ndarray'>\n",
      "\n",
      "Element type:  float64\n",
      "\n",
      "No. dimensions:  2\n",
      "\n",
      "Array shape:  (2, 2)\n",
      "\n",
      "Bytes per element:  8\n",
      "\n",
      "Bytes of memory used:  32\n"
     ]
    }
   ],
   "source": [
    "# explore object\n",
    "print(\"\\nArray data type: \", type(a))\n",
    "print(\"\\nElement type: \", a.dtype)\n",
    "print(\"\\nNo. dimensions: \", a.ndim)\n",
    "print(\"\\nArray shape: \", a.shape)\n",
    "print(\"\\nBytes per element: \", a.itemsize)\n",
    "print(\"\\nBytes of memory used: \", a.nbytes)"
   ]
  },
  {
   "cell_type": "markdown",
   "metadata": {},
   "source": [
    "___\n",
    "\n",
    "<strong style=\"color:red\">BEWARE OF TYPE COERCION:</strong> [Data Types](https://numpy.org/devdocs/user/basics.types.html) are specified for the full array. For example, if we store a *float* in an *int* array, the *float* will be up-casted to an *int*\n",
    "\n",
    "___"
   ]
  },
  {
   "cell_type": "code",
   "execution_count": 5,
   "metadata": {},
   "outputs": [
    {
     "data": {
      "text/plain": [
       "array([3, 2, 3, 4])"
      ]
     },
     "execution_count": 5,
     "metadata": {},
     "output_type": "execute_result"
    }
   ],
   "source": [
    "# data type coercion\n",
    "a[0] = 3.14159\n",
    "a"
   ]
  },
  {
   "cell_type": "code",
   "execution_count": 16,
   "metadata": {},
   "outputs": [
    {
     "name": "stdout",
     "output_type": "stream",
     "text": [
      "[1.2 2.  3.  4. ]\n",
      "float64\n"
     ]
    }
   ],
   "source": [
    "# NumPy converts to most logical data type\n",
    "b = np.array([1.2, 2, 3, 4])\n",
    "print(b)\n",
    "print(b.dtype) # all values will be converted to floats"
   ]
  },
  {
   "cell_type": "code",
   "execution_count": 17,
   "metadata": {},
   "outputs": [
    {
     "name": "stdout",
     "output_type": "stream",
     "text": [
      "['1' '2' '3']\n",
      "<U1\n"
     ]
    }
   ],
   "source": [
    "# We can manually specify the datatype\n",
    "c = np.array([1, 2, 3], dtype=str)\n",
    "print(c)\n",
    "print(c.dtype)"
   ]
  },
  {
   "cell_type": "code",
   "execution_count": 18,
   "metadata": {},
   "outputs": [
    {
     "name": "stdout",
     "output_type": "stream",
     "text": [
      "[    0     1     2 ... 99997 99998 99999]\n",
      "\n",
      "100000\n"
     ]
    }
   ],
   "source": [
    "# lists can also be much longer\n",
    "a = np.array(range(100000))\n",
    "print(a)\n",
    "print()\n",
    "print(len(a)) # to see the length of the full array"
   ]
  },
  {
   "cell_type": "code",
   "execution_count": 19,
   "metadata": {},
   "outputs": [
    {
     "name": "stdout",
     "output_type": "stream",
     "text": [
      "[1 2 3 4 5 6 7 8 9]\n"
     ]
    }
   ],
   "source": [
    "#d = np.array(1,2,3,4, 5,6,7,8,9) # wrong\n",
    "d = np.array([1,2,3,4,5,6,7,8,9]) # right\n",
    "print(d)"
   ]
  },
  {
   "cell_type": "code",
   "execution_count": 21,
   "metadata": {},
   "outputs": [
    {
     "name": "stdout",
     "output_type": "stream",
     "text": [
      "['1' '2' 'cat' '4']\n",
      "<U21\n"
     ]
    }
   ],
   "source": [
    "# the elements of an array must be of a type that is valid to perform\n",
    "# a specific mathematical operation on\n",
    "\n",
    "e = np.array([1,2,'cat', 4])\n",
    "print(e)\n",
    "print(e.dtype)"
   ]
  },
  {
   "cell_type": "markdown",
   "metadata": {},
   "source": [
    "<!--Navigate back to table of contents-->\n",
    "<div align=\"left\" style=\"text-align: left; background-color:#003262;\">\n",
    "    <span>\n",
    "        <hr style=\"border: 8px solid#003262;\" />\n",
    "        <a style=\"color:#FFFFFF; background-color:#003262; border:1px solid #FFFFFF; border-color:#FFFFFF;border-radius:0px;border-width:0px;display:inline-block;font-family:arial,helvetica,sans-serif;font-size:24px;letter-spacing:0px;line-height:20px;padding:24px 40px;text-align:left;text-decoration:none; align:left\"> \n",
    "            <strong>CONCEPT</strong> CHECK \n",
    "        </a>        \n",
    "    </span>\n",
    "\n",
    "</div>\n",
    "<!-------------------------------------->\n",
    "\n",
    "> **Each NumPy array can only contain elements of a single data type.  In the following code, there is an casting error present. Correct the code so that it functions properly** \n",
    "\n",
    "<br>\n",
    "\n",
    "```python\n",
    "a = np.random.normal(0,1,1000)\n",
    "b = np.arange(1000, dtype=np.uint8)\n",
    "c = np.arange(1000, dtype=np.int16)\n",
    "c += a + b\n",
    "\n",
    "print(c)\n",
    "```\n",
    "\n",
    "\n",
    "<hr style=\"border: 2px solid#003262;\" />"
   ]
  },
  {
   "cell_type": "markdown",
   "metadata": {},
   "source": [
    "<br>\n",
    "\n",
    "#### **Arrays from NumPy Functions**"
   ]
  },
  {
   "cell_type": "code",
   "execution_count": 54,
   "metadata": {},
   "outputs": [
    {
     "name": "stdout",
     "output_type": "stream",
     "text": [
      "[[0. 0.]\n",
      " [0. 0.]]\n"
     ]
    }
   ],
   "source": [
    "# Create (2x2) array of zeros\n",
    "a = np.zeros((2,2))   \n",
    "print(a)"
   ]
  },
  {
   "cell_type": "code",
   "execution_count": 55,
   "metadata": {},
   "outputs": [
    {
     "name": "stdout",
     "output_type": "stream",
     "text": [
      "[[1. 1.]]\n"
     ]
    }
   ],
   "source": [
    "# Create (1x2) array of ones\n",
    "b = np.ones((1,2))    \n",
    "print(b)"
   ]
  },
  {
   "cell_type": "code",
   "execution_count": 56,
   "metadata": {},
   "outputs": [
    {
     "name": "stdout",
     "output_type": "stream",
     "text": [
      "[[7 7]\n",
      " [7 7]]\n"
     ]
    }
   ],
   "source": [
    "# Create (2x2) array of constants = 7\n",
    "c = np.full((2,2), 7) \n",
    "print(c)"
   ]
  },
  {
   "cell_type": "code",
   "execution_count": 57,
   "metadata": {},
   "outputs": [
    {
     "name": "stdout",
     "output_type": "stream",
     "text": [
      "[[1. 0.]\n",
      " [0. 1.]]\n"
     ]
    }
   ],
   "source": [
    "# Create (2x2) identity matrix\n",
    "d = np.eye(2)         \n",
    "print(d)"
   ]
  },
  {
   "cell_type": "code",
   "execution_count": 58,
   "metadata": {},
   "outputs": [
    {
     "name": "stdout",
     "output_type": "stream",
     "text": [
      "[[0.89053141 0.02383709]\n",
      " [0.36453182 0.37336369]]\n"
     ]
    }
   ],
   "source": [
    "# Create (2x2) array filled with random values\n",
    "e = np.random.random((2,2))  \n",
    "print(e)"
   ]
  },
  {
   "cell_type": "code",
   "execution_count": 60,
   "metadata": {},
   "outputs": [
    {
     "data": {
      "text/plain": [
       "array([1.        , 1.66666667, 2.33333333, 3.        , 3.66666667,\n",
       "       4.33333333, 5.        , 5.66666667, 6.33333333, 7.        ])"
      ]
     },
     "execution_count": 60,
     "metadata": {},
     "output_type": "execute_result"
    }
   ],
   "source": [
    "# Create n evenly spaced elements (start, stop, n)\n",
    "f = np.linspace(1, 7, 10)\n",
    "f"
   ]
  },
  {
   "cell_type": "code",
   "execution_count": 61,
   "metadata": {},
   "outputs": [
    {
     "data": {
      "text/plain": [
       "array([ 1.        ,  1.29154967,  1.66810054,  2.15443469,  2.7825594 ,\n",
       "        3.59381366,  4.64158883,  5.9948425 ,  7.74263683, 10.        ])"
      ]
     },
     "execution_count": 61,
     "metadata": {},
     "output_type": "execute_result"
    }
   ],
   "source": [
    "# Create n evenly spaced elements in log scale (start, stop, n)\n",
    "g = np.logspace(0, 1, 10)\n",
    "g"
   ]
  },
  {
   "cell_type": "markdown",
   "metadata": {},
   "source": [
    "___\n",
    "\n",
    "**Note:** to see all the ways in which you can create arrays using built-in NumPy methods, see [here](https://numpy.org/doc/stable/user/basics.creation.html#arrays-creation).\n",
    "                                                                                                      \n",
    "___           "
   ]
  },
  {
   "cell_type": "markdown",
   "metadata": {},
   "source": [
    "<a id='Part_1_3'></a>\n",
    "\n",
    "<hr style=\"border: 1px solid#003262;\" />\n",
    "\n",
    "#### PART 1.3: MULTI-DIMENSIONAL ARRAYS\n",
    "\n",
    "<br>\n",
    "\n",
    "<div align=\"center\" style=\"font-size:12px; font-family:FreeMono; font-weight: 100; font-stretch:ultra-condensed; line-height: 1.0; color:#2A2C2B\">\n",
    "    <img src=\"assets/content/images/numpgraphs-17.png\" align=\"center\" width=\"40%\" padding=\"10\"><br>\n",
    "    <br>\n",
    "\n",
    "</div>"
   ]
  },
  {
   "cell_type": "code",
   "execution_count": 63,
   "metadata": {},
   "outputs": [
    {
     "data": {
      "text/plain": [
       "array([[  0,   1,   2,   3],\n",
       "       [ 10,  11,  12,  13],\n",
       "       [100, 111, 122, 133]])"
      ]
     },
     "execution_count": 63,
     "metadata": {},
     "output_type": "execute_result"
    }
   ],
   "source": [
    "# Create multi-dimensional array\n",
    "mda = np.array([[0, 1, 2, 3], \n",
    "                [10, 11, 12, 13],\n",
    "                [100, 111, 122, 133]])\n",
    "mda"
   ]
  },
  {
   "cell_type": "code",
   "execution_count": 48,
   "metadata": {},
   "outputs": [
    {
     "name": "stdout",
     "output_type": "stream",
     "text": [
      "\n",
      "Array data type:  <class 'numpy.ndarray'>\n",
      "\n",
      "Element type:  int64\n",
      "\n",
      "No. dimensions:  2\n",
      "\n",
      "Array shape:  (3, 4)\n",
      "\n",
      "Bytes per element:  8\n",
      "\n",
      "Bytes of memory used:  96\n"
     ]
    }
   ],
   "source": [
    "# explore multi-dimensional object\n",
    "print(\"\\nArray data type: \", type(mda))\n",
    "print(\"\\nElement type: \", mda.dtype)\n",
    "print(\"\\nNo. dimensions: \", mda.ndim)\n",
    "print(\"\\nArray shape: \", mda.shape)\n",
    "print(\"\\nBytes per element: \", mda.itemsize)\n",
    "print(\"\\nBytes of memory used: \", mda.nbytes)"
   ]
  },
  {
   "cell_type": "code",
   "execution_count": 50,
   "metadata": {},
   "outputs": [
    {
     "name": "stdout",
     "output_type": "stream",
     "text": [
      "[[  0   1   2   3]\n",
      " [ 10  11  12  13]\n",
      " [100 111 122 133]] \n",
      "\n"
     ]
    },
    {
     "data": {
      "text/plain": [
       "12"
      ]
     },
     "execution_count": 50,
     "metadata": {},
     "output_type": "execute_result"
    }
   ],
   "source": [
    "# get elements\n",
    "print(mda, \"\\n\")\n",
    "mda[1,2]"
   ]
  },
  {
   "cell_type": "code",
   "execution_count": 51,
   "metadata": {},
   "outputs": [
    {
     "data": {
      "text/plain": [
       "array([[  0,   1,   2,  -1],\n",
       "       [ 10,  11,  12,  13],\n",
       "       [100, 111, 122, 133]])"
      ]
     },
     "execution_count": 51,
     "metadata": {},
     "output_type": "execute_result"
    }
   ],
   "source": [
    "# set element\n",
    "mda[0,3] = -1\n",
    "mda"
   ]
  },
  {
   "cell_type": "code",
   "execution_count": 52,
   "metadata": {},
   "outputs": [
    {
     "data": {
      "text/plain": [
       "array([100, 111, 122, 133])"
      ]
     },
     "execution_count": 52,
     "metadata": {},
     "output_type": "execute_result"
    }
   ],
   "source": [
    "# access rows by index\n",
    "mda[2]"
   ]
  },
  {
   "cell_type": "markdown",
   "metadata": {},
   "source": [
    "<!--Navigate back to table of contents-->\n",
    "<div alig=\"right\" style=\"text-align: right\">\n",
    "    <span>\n",
    "        <a style=\"color:#FFFFFF; background-color:#003262; border:1px solid #FFFFFF; border-color:#FFFFFF;border-radius:5px;border-width:0px;display:inline-block;font-family:arial,helvetica,sans-serif;font-size:10px;letter-spacing:0px;line-height:10px;padding:10px 20px;text-align:center;text-decoration:none; align:center\" href=\"#Part_table_contents\" name=\"Table of Contents\"  id=\"Part_table_contents\"> \n",
    "            Table of Contents \n",
    "        </a>\n",
    "    </span>\n",
    "</div>\n",
    "<!-------------------------------------->"
   ]
  },
  {
   "cell_type": "markdown",
   "metadata": {},
   "source": [
    "<a id='Part_2'></a>\n",
    "\n",
    "<hr style=\"border: 2px solid#003262;\" />\n",
    "\n",
    "#### PART 2\n",
    "\n",
    "##  **ACCESSING**, DATA **MANIPULATION**, AND **OPERATIONS**\n",
    "\n",
    "<br>\n",
    "\n",
    "<div align=\"center\" style=\"font-size:12px; font-family:FreeMono; font-weight: 100; font-stretch:ultra-condensed; line-height: 1.0; color:#2A2C2B\">\n",
    "    <img src=\"assets/content/images/numpgraphs-01.png\" align=\"center\" width=\"30%\" padding=\"10\"><br>\n",
    "    <br>\n",
    "</div>\n",
    "\n",
    "<br>\n",
    "\n",
    "\n",
    "#### CONTENTS:\n",
    "\n",
    "> [PART 2.1: ARRAY SLICING AND INDEXING](#Part_2_1)<br>\n",
    "> [PART 2.2: ARRAY OPERATIONS](#Part_2_2)<br>\n",
    "> [PART 2.3 (OPTIONAL) NUMPY ARRAY VS PYTHON LIST](#Part_2_3)<br>\n",
    "> [PART 2.4 (OPTIONAL) ARRAY BROADCASTING](#Part_2_4)<br>\n",
    "> [PART 2.5 (OPTIONAL) NUMPY APPLICATION - PREDICTION USING ORDINARY LEAST SQUARES](#Part_2_5)\n"
   ]
  },
  {
   "cell_type": "markdown",
   "metadata": {},
   "source": [
    "<a id='Part_2_1'></a>\n",
    "\n",
    "<hr style=\"border: 1px solid#003262;\" />\n",
    "\n",
    "#### PART 2.1: ARRAY INDEXING\n",
    "\n",
    "<br>\n",
    "\n",
    "<div align=\"center\" style=\"font-size:12px; font-family:FreeMono; font-weight: 100; font-stretch:ultra-condensed; line-height: 1.0; color:#2A2C2B\">\n",
    "    <img src=\"/assets/content/images/numpgraphs-20.png\" align=\"center\" width=\"40%\" padding=\"10\"><br>\n",
    "    <br>\n",
    "</div>\n",
    "\n",
    "<br>"
   ]
  },
  {
   "cell_type": "code",
   "execution_count": 167,
   "metadata": {},
   "outputs": [],
   "source": [
    "# NumPy\n",
    "import numpy as np\n",
    "\n",
    "# Matplotlib\n",
    "import matplotlib.pyplot as plt \n",
    "\n",
    "# jupyter notebook magic to display plots in output\n",
    "%matplotlib inline\n",
    "\n",
    "plt.rcParams['figure.figsize'] = (10,6) # make the plots bigger"
   ]
  },
  {
   "cell_type": "markdown",
   "metadata": {},
   "source": [
    "<br>\n",
    "\n",
    "#### **2.1.1 Accessing elements in an array**\n",
    "\n",
    "____"
   ]
  },
  {
   "cell_type": "markdown",
   "metadata": {},
   "source": [
    "<br>\n",
    "\n",
    "**Array Slicing**"
   ]
  },
  {
   "cell_type": "code",
   "execution_count": 158,
   "metadata": {},
   "outputs": [
    {
     "name": "stdout",
     "output_type": "stream",
     "text": [
      "[ 0  1  2  3  4  5  6  7  8  9 10 11 12 13 14]\n",
      "[0 1 2]\n",
      "[ 3  4  5  6  7  8  9 10 11 12 13 14]\n"
     ]
    }
   ],
   "source": [
    "# NumPy slicing/indexing is similar to Python List's slicing/indexing:\n",
    "d = np.array(range(15))\n",
    "\n",
    "print(d[:])      # grab all\n",
    "print(d[0:3])    # start_inclusive:stop_exclusive\n",
    "print(d[3:])     # grab all starting at 3 (inclusive)"
   ]
  },
  {
   "cell_type": "code",
   "execution_count": 159,
   "metadata": {},
   "outputs": [
    {
     "name": "stdout",
     "output_type": "stream",
     "text": [
      "[ 0  3  6  9 12]\n",
      "[14 12 10  8  6  4  2  0]\n",
      "[ 5  7  9 11 13]\n"
     ]
    }
   ],
   "source": [
    "print(d[::3])     # grab every third element \n",
    "print(d[::-2])    # grab every other element backwards, starting with penultimate\n",
    "print (d[5:15:2]) # specify [start:stop:step-size]"
   ]
  },
  {
   "cell_type": "markdown",
   "metadata": {},
   "source": [
    "<br>\n",
    "\n",
    "**Array Indexing**"
   ]
  },
  {
   "cell_type": "code",
   "execution_count": 160,
   "metadata": {},
   "outputs": [
    {
     "data": {
      "text/plain": [
       "array([[ 1,  2,  3,  4],\n",
       "       [ 5,  6,  7,  8],\n",
       "       [ 9, 10, 11, 12]])"
      ]
     },
     "execution_count": 160,
     "metadata": {},
     "output_type": "execute_result"
    }
   ],
   "source": [
    "# Create (3x4) array\n",
    "a = np.array([[1,2,3,4], [5,6,7,8], [9,10,11,12]])\n",
    "a"
   ]
  },
  {
   "cell_type": "code",
   "execution_count": 87,
   "metadata": {},
   "outputs": [
    {
     "data": {
      "text/plain": [
       "array([[3, 4],\n",
       "       [7, 8]])"
      ]
     },
     "execution_count": 87,
     "metadata": {},
     "output_type": "execute_result"
    }
   ],
   "source": [
    "'''\n",
    "Extract subarray consisting of first two rows and\n",
    "columns 3 and 4, yielding a (2x2) array\n",
    "'''\n",
    "b = a[:2, 2:]\n",
    "b"
   ]
  },
  {
   "cell_type": "markdown",
   "metadata": {},
   "source": [
    "___\n",
    "\n",
    "**Note:** an array slice, the subarray, is a view to the same data, the original array. Consequently, modifying the subarray will modify the original array.\n",
    "\n",
    "___"
   ]
  },
  {
   "cell_type": "code",
   "execution_count": 88,
   "metadata": {},
   "outputs": [
    {
     "name": "stdout",
     "output_type": "stream",
     "text": [
      "4\n",
      "-1\n"
     ]
    }
   ],
   "source": [
    "## sanity check ##\n",
    "print(a[0,3]) # 1st row, 4th column in original array\n",
    "b[0,1] = -1   # set 0th row, 0th colum in subarray\n",
    "print(a[0,3])"
   ]
  },
  {
   "cell_type": "markdown",
   "metadata": {},
   "source": [
    "<br>\n",
    "\n",
    "**Array Indexing + Slicing: Accessing data in the middle of the array**"
   ]
  },
  {
   "cell_type": "code",
   "execution_count": 163,
   "metadata": {},
   "outputs": [
    {
     "data": {
      "text/plain": [
       "array([5, 6, 7, 8])"
      ]
     },
     "execution_count": 163,
     "metadata": {},
     "output_type": "execute_result"
    }
   ],
   "source": [
    "# Integer indexing with slices\n",
    "row_v1 = a[1, :]    # 2nd row, all columns\n",
    "row_v1"
   ]
  },
  {
   "cell_type": "code",
   "execution_count": 164,
   "metadata": {},
   "outputs": [
    {
     "data": {
      "text/plain": [
       "array([[5, 6, 7, 8]])"
      ]
     },
     "execution_count": 164,
     "metadata": {},
     "output_type": "execute_result"
    }
   ],
   "source": [
    "# Slicing only\n",
    "row_v2 = a[1:2, :] \n",
    "row_v2"
   ]
  },
  {
   "cell_type": "code",
   "execution_count": 165,
   "metadata": {},
   "outputs": [
    {
     "name": "stdout",
     "output_type": "stream",
     "text": [
      "[5 6 7 8] (4,)\n",
      "[[5 6 7 8]] (1, 4)\n"
     ]
    }
   ],
   "source": [
    "## sanity check ##\n",
    "print(row_r1, row_r1.shape)  \n",
    "print(row_r2, row_r2.shape)  "
   ]
  },
  {
   "cell_type": "code",
   "execution_count": 166,
   "metadata": {},
   "outputs": [
    {
     "name": "stdout",
     "output_type": "stream",
     "text": [
      "[ 2  6 10] (3,)\n",
      "[[ 2]\n",
      " [ 6]\n",
      " [10]] (3, 1)\n"
     ]
    }
   ],
   "source": [
    "# Now with columns\n",
    "col_v1 = a[:, 1]    # slicing with integer indexing\n",
    "col_v2 = a[:, 1:2]  # slicing only\n",
    "\n",
    "## sanity check ##\n",
    "print(col_v1, col_v1.shape)  \n",
    "print(col_v2, col_v2.shape) "
   ]
  },
  {
   "cell_type": "markdown",
   "metadata": {},
   "source": [
    "___\n",
    "\n",
    "**Note:** Accessing data from the middle of an array can create different subarrays depending on how it is extracted. This is because NumPy utilizes efficient pointers to a location in memory where it will store the location of the slice. These memory location can be used in operations. The following exhibits the behavior.\n",
    "    \n",
    "___"
   ]
  },
  {
   "cell_type": "markdown",
   "metadata": {},
   "source": [
    "<br>\n",
    "\n",
    "**Integer Array Indexing**\n",
    "\n",
    "When indexing NumPy array with iteger array indexing, you can construct arbitrary arrays usind data from some other array. When you index using slice, the resulting subarray will alway be associated with the original array."
   ]
  },
  {
   "cell_type": "code",
   "execution_count": 108,
   "metadata": {},
   "outputs": [
    {
     "data": {
      "text/plain": [
       "array([[ 1,  2,  3],\n",
       "       [ 4,  5,  6],\n",
       "       [ 7,  8,  9],\n",
       "       [10, 11, 12]])"
      ]
     },
     "execution_count": 108,
     "metadata": {},
     "output_type": "execute_result"
    }
   ],
   "source": [
    "# create new (4x3) array\n",
    "c =  np.array([[1,2,3], [4,5,6], [7,8,9], [10, 11, 12]])\n",
    "c"
   ]
  },
  {
   "cell_type": "code",
   "execution_count": 109,
   "metadata": {},
   "outputs": [
    {
     "name": "stdout",
     "output_type": "stream",
     "text": [
      "[1 5 7]\n"
     ]
    }
   ],
   "source": [
    "# Integer array indexing 1.\n",
    "print(c[[0, 1, 2], [0, 1, 0]])  "
   ]
  },
  {
   "cell_type": "code",
   "execution_count": 110,
   "metadata": {},
   "outputs": [
    {
     "name": "stdout",
     "output_type": "stream",
     "text": [
      "[1 5 7]\n"
     ]
    }
   ],
   "source": [
    "# Integer array indexing 2.\n",
    "print(np.array([c[0, 0], c[1, 1], c[2, 0]]))"
   ]
  },
  {
   "cell_type": "markdown",
   "metadata": {},
   "source": [
    "<br>\n",
    "\n",
    "#### **2.1.2 Fancy Indexing**\n",
    "\n",
    "____"
   ]
  },
  {
   "cell_type": "markdown",
   "metadata": {},
   "source": [
    "<br>\n",
    "\n",
    "**Fancy Indexing: Mutating arrays using another array (masks)**"
   ]
  },
  {
   "cell_type": "code",
   "execution_count": 141,
   "metadata": {},
   "outputs": [],
   "source": [
    "# create (2x3) array\n",
    "e = np.array([[1,2], [3, 4], [5, 6]])"
   ]
  },
  {
   "cell_type": "code",
   "execution_count": 142,
   "metadata": {},
   "outputs": [],
   "source": [
    "# Mask array specifying which integer index to mutate\n",
    "mutate = np.array([0, 1, 1])"
   ]
  },
  {
   "cell_type": "code",
   "execution_count": 143,
   "metadata": {},
   "outputs": [
    {
     "name": "stdout",
     "output_type": "stream",
     "text": [
      "[1 4 6]\n"
     ]
    }
   ],
   "source": [
    "# extract row elements using mask\n",
    "print(e[np.arange(3), mutate])"
   ]
  },
  {
   "cell_type": "code",
   "execution_count": 144,
   "metadata": {},
   "outputs": [
    {
     "name": "stdout",
     "output_type": "stream",
     "text": [
      "Before Mutation: \n",
      " [[1 2]\n",
      " [3 4]\n",
      " [5 6]]\n",
      "\n",
      "After Mutation: \n",
      " [[-99   2]\n",
      " [  3 -96]\n",
      " [  5 -94]]\n"
     ]
    }
   ],
   "source": [
    "# Mutate one element from each row of a using the indices in b\n",
    "print(\"Before Mutation: \\n\", e)    # before mutation\n",
    "e[np.arange(3), mutate] -= 100\n",
    "print(\"\\nAfter Mutation: \\n\", e)   # after mutation"
   ]
  },
  {
   "cell_type": "markdown",
   "metadata": {},
   "source": [
    "<br>\n",
    "\n",
    "**Fancy Indexing: Boolean array indexing**"
   ]
  },
  {
   "cell_type": "code",
   "execution_count": 152,
   "metadata": {},
   "outputs": [
    {
     "data": {
      "text/plain": [
       "array([[False,  True],\n",
       "       [ True, False],\n",
       "       [ True, False]])"
      ]
     },
     "execution_count": 152,
     "metadata": {},
     "output_type": "execute_result"
    }
   ],
   "source": [
    "# Flag elements greater than 0\n",
    "bool_flag = (e > 0)\n",
    "bool_flag"
   ]
  },
  {
   "cell_type": "code",
   "execution_count": 154,
   "metadata": {},
   "outputs": [
    {
     "data": {
      "text/plain": [
       "array([2, 3, 5])"
      ]
     },
     "execution_count": 154,
     "metadata": {},
     "output_type": "execute_result"
    }
   ],
   "source": [
    "# extract data using boolean array indexing\n",
    "bool_e = e[bool_flag]\n",
    "# bool_e = e[e > 0]     # same effect, simpler statement\n",
    "bool_e"
   ]
  },
  {
   "cell_type": "markdown",
   "metadata": {},
   "source": [
    "<!--Navigate back to table of contents-->\n",
    "<br>\n",
    "\n",
    "<div alig=\"right\" style=\"text-align: right\">\n",
    "    <span>\n",
    "        <a style=\"color:#FFFFFF; background-color:#003262; border:1px solid #FFFFFF; border-color:#FFFFFF;border-radius:5px;border-width:0px;display:inline-block;font-family:arial,helvetica,sans-serif;font-size:10px;letter-spacing:0px;line-height:10px;padding:10px 20px;text-align:center;text-decoration:none; align:center\" href=\"#Part_table_contents\" name=\"Table of Contents\"  id=\"Part_table_contents\"> \n",
    "            Table of Contents \n",
    "        </a>\n",
    "    </span>\n",
    "</div>\n",
    "<!-------------------------------------->"
   ]
  },
  {
   "cell_type": "markdown",
   "metadata": {},
   "source": [
    "<a id='Part_2_2'></a>\n",
    "\n",
    "<hr style=\"border: 1px solid#003262;\" />\n",
    "\n",
    "#### PART 2.2 ARRAY OPERATIONS\n",
    "\n",
    "<br>\n",
    "\n",
    "<div align=\"center\" style=\"font-size:12px; font-family:FreeMono; font-weight: 100; font-stretch:ultra-condensed; line-height: 1.0; color:#2A2C2B\">\n",
    "    <img src=\"/assets/content/images/numpgraphs-12.png\" align=\"center\" width=\"50%\" padding=\"0px\"><br>\n",
    "    <br>\n",
    "</div>"
   ]
  },
  {
   "cell_type": "markdown",
   "metadata": {},
   "source": [
    "<br>\n",
    "\n",
    "#### **2.2.1 Array Math**\n",
    "___"
   ]
  },
  {
   "cell_type": "markdown",
   "metadata": {},
   "source": [
    "<br>\n",
    "\n",
    "**Elementwise Arithmetic**"
   ]
  },
  {
   "cell_type": "code",
   "execution_count": 220,
   "metadata": {},
   "outputs": [],
   "source": [
    "import numpy as np\n",
    "\n",
    "x = np.array([[10,20],[30,40]], dtype=np.float64)\n",
    "y = np.array([[55,66],[77,88]], dtype=np.float64)"
   ]
  },
  {
   "cell_type": "code",
   "execution_count": 215,
   "metadata": {},
   "outputs": [
    {
     "name": "stdout",
     "output_type": "stream",
     "text": [
      "[[ 65.  86.]\n",
      " [107. 128.]] \n",
      "\n",
      "[[ 65.  86.]\n",
      " [107. 128.]]\n"
     ]
    }
   ],
   "source": [
    "# Elementwise Addition\n",
    "print(x+y, \"\\n\")\n",
    "print(np.add(x,y))"
   ]
  },
  {
   "cell_type": "code",
   "execution_count": 216,
   "metadata": {},
   "outputs": [
    {
     "name": "stdout",
     "output_type": "stream",
     "text": [
      "[[-45. -46.]\n",
      " [-47. -48.]] \n",
      "\n",
      "[[-45. -46.]\n",
      " [-47. -48.]]\n"
     ]
    }
   ],
   "source": [
    "# Elementwise Subtraction\n",
    "print(x - y, \"\\n\")\n",
    "print(np.subtract(x, y))"
   ]
  },
  {
   "cell_type": "code",
   "execution_count": 217,
   "metadata": {},
   "outputs": [
    {
     "name": "stdout",
     "output_type": "stream",
     "text": [
      "[[ 550. 1320.]\n",
      " [2310. 3520.]] \n",
      "\n",
      "[[ 550. 1320.]\n",
      " [2310. 3520.]]\n"
     ]
    }
   ],
   "source": [
    "# Elementwise Multiplication\n",
    "print(x * y, \"\\n\")\n",
    "print(np.multiply(x, y))"
   ]
  },
  {
   "cell_type": "code",
   "execution_count": 218,
   "metadata": {},
   "outputs": [
    {
     "name": "stdout",
     "output_type": "stream",
     "text": [
      "[[0.18181818 0.3030303 ]\n",
      " [0.38961039 0.45454545]] \n",
      "\n",
      "[[0.18181818 0.3030303 ]\n",
      " [0.38961039 0.45454545]]\n"
     ]
    }
   ],
   "source": [
    "# Elementwise Division\n",
    "print(x / y, \"\\n\")\n",
    "print(np.divide(x, y))"
   ]
  },
  {
   "cell_type": "code",
   "execution_count": 219,
   "metadata": {},
   "outputs": [
    {
     "name": "stdout",
     "output_type": "stream",
     "text": [
      "[[3.16227766 4.47213595]\n",
      " [5.47722558 6.32455532]]\n"
     ]
    }
   ],
   "source": [
    "# Elementwise Square-root\n",
    "print(np.sqrt(x))"
   ]
  },
  {
   "cell_type": "markdown",
   "metadata": {},
   "source": [
    "<br>\n",
    "\n",
    "**Matrix Operations**"
   ]
  },
  {
   "cell_type": "code",
   "execution_count": 222,
   "metadata": {},
   "outputs": [],
   "source": [
    "import numpy as np\n",
    "\n",
    "x = np.array([[10,20],[30,40]], dtype=np.float64)\n",
    "y = np.array([[55,66],[77,88]], dtype=np.float64)\n",
    "\n",
    "v = np.array([9,10])\n",
    "w = np.array([11, 12])"
   ]
  },
  {
   "cell_type": "code",
   "execution_count": 223,
   "metadata": {},
   "outputs": [
    {
     "name": "stdout",
     "output_type": "stream",
     "text": [
      "219 \n",
      "\n",
      "219\n"
     ]
    }
   ],
   "source": [
    "# Inner Product of Vectors\n",
    "print(v.dot(w), \"\\n\")\n",
    "print(np.dot(v, w))"
   ]
  },
  {
   "cell_type": "code",
   "execution_count": 224,
   "metadata": {},
   "outputs": [
    {
     "name": "stdout",
     "output_type": "stream",
     "text": [
      "[290. 670.] \n",
      "\n",
      "[290. 670.]\n"
     ]
    }
   ],
   "source": [
    "# Matrix-Vector Product \n",
    "print(x.dot(v), \"\\n\")\n",
    "print(np.dot(x, v))"
   ]
  },
  {
   "cell_type": "code",
   "execution_count": 225,
   "metadata": {},
   "outputs": [
    {
     "name": "stdout",
     "output_type": "stream",
     "text": [
      "[[2090. 2420.]\n",
      " [4730. 5500.]] \n",
      "\n",
      "[[2090. 2420.]\n",
      " [4730. 5500.]]\n"
     ]
    }
   ],
   "source": [
    "# Matrix-Matrix Product\n",
    "print(x.dot(y), \"\\n\")\n",
    "print(np.dot(x, y))"
   ]
  },
  {
   "cell_type": "markdown",
   "metadata": {},
   "source": [
    "<br>\n",
    "\n",
    "#### **2.2.2 Array Methods and Functions**\n",
    "\n",
    "<br>\n",
    "\n",
    "<div align=\"center\" style=\"font-size:12px; font-family:FreeMono; font-weight: 100; font-stretch:ultra-condensed; line-height: 1.0; color:#2A2C2B\">\n",
    "    <img src=\"/assets/content/images/numpgraphs-19.png\" align=\"center\" width=\"50%\" padding=\"0px\"><br>\n",
    "    <br>\n",
    "</div>\n",
    "\n",
    "___"
   ]
  },
  {
   "cell_type": "code",
   "execution_count": 292,
   "metadata": {},
   "outputs": [],
   "source": [
    "import numpy as np\n",
    "\n",
    "# Create (2x2) array\n",
    "x = np.array([[10,20], [30,44]])\n",
    "\n",
    "# Create (1x9) array\n",
    "a = np.arange(1,10)"
   ]
  },
  {
   "cell_type": "code",
   "execution_count": 293,
   "metadata": {},
   "outputs": [
    {
     "name": "stdout",
     "output_type": "stream",
     "text": [
      "104 \n",
      "\n",
      "[40 64] \n",
      "\n",
      "[30 74]\n"
     ]
    }
   ],
   "source": [
    "# Sum Function\n",
    "print(np.sum(x), \"\\n\")          # Sum of all elements\n",
    "print(np.sum(x, axis=0), \"\\n\")  # Sum of each column\n",
    "print(np.sum(x, axis=1))        # Sum of each row"
   ]
  },
  {
   "cell_type": "code",
   "execution_count": 294,
   "metadata": {},
   "outputs": [
    {
     "name": "stdout",
     "output_type": "stream",
     "text": [
      "10\n",
      "0\n",
      "44\n",
      "3\n"
     ]
    }
   ],
   "source": [
    "# Min/Max\n",
    "print(x.min())     # min\n",
    "print(x.argmin())  # location of min\n",
    "print(x.max())     # max\n",
    "print(x.argmax())  # location of max"
   ]
  },
  {
   "cell_type": "code",
   "execution_count": 295,
   "metadata": {},
   "outputs": [
    {
     "name": "stdout",
     "output_type": "stream",
     "text": [
      "[     1      2      6     24    120    720   5040  40320 362880]\n",
      "[ 1  3  6 10 15 21 28 36 45]\n"
     ]
    }
   ],
   "source": [
    "# Cumulative Product/Sum\n",
    "print(np.cumprod(a))\n",
    "print(np.cumsum(a))"
   ]
  },
  {
   "cell_type": "code",
   "execution_count": 296,
   "metadata": {},
   "outputs": [
    {
     "name": "stdout",
     "output_type": "stream",
     "text": [
      "Original: [ 0  1  2  3  4  5  6  7  8  9 10 11 12 13 14]\n",
      "Reshaped:\n",
      "[[ 0  1  2  3  4]\n",
      " [ 5  6  7  8  9]\n",
      " [10 11 12 13 14]]\n"
     ]
    }
   ],
   "source": [
    "# Reshape is used to change the shape\n",
    "a = np.arange(0, 15)\n",
    "print('Original:',a)\n",
    "a = a.reshape(3, 5)\n",
    "# a = np.arange(0, 15).reshape(3, 5)  # same thing\n",
    "print ('Reshaped:')\n",
    "print(a)"
   ]
  },
  {
   "cell_type": "code",
   "execution_count": 297,
   "metadata": {},
   "outputs": [
    {
     "name": "stdout",
     "output_type": "stream",
     "text": [
      "Original:\n",
      " [[ 0  1  2  3  4  5]\n",
      " [ 6  7  8  9 10 11]\n",
      " [12 13 14 15 16 17]\n",
      " [18 19 20 21 22 23]]\n",
      "\n",
      "Flattened:\n",
      " [ 0  1  2  3  4  5  6  7  8  9 10 11 12 13 14 15 16 17 18 19 20 21 22 23]\n"
     ]
    }
   ],
   "source": [
    "# We can also flatten matrices using ravel()\n",
    "x = np.array(range(24))\n",
    "x = x.reshape(4,6)\n",
    "print('Original:\\n',x)\n",
    "print()\n",
    "x = x.ravel() # make it flat\n",
    "print ('Flattened:\\n',x)"
   ]
  },
  {
   "cell_type": "code",
   "execution_count": 298,
   "metadata": {},
   "outputs": [
    {
     "name": "stdout",
     "output_type": "stream",
     "text": [
      "[[[ 0  1  2  3  4  5  6  7]\n",
      "  [ 8  9 10 11 12 13 14 15]\n",
      "  [16 17 18 19 20 21 22 23]\n",
      "  [24 25 26 27 28 29 30 31]\n",
      "  [32 33 34 35 36 37 38 39]\n",
      "  [40 41 42 43 44 45 46 47]]\n",
      "\n",
      " [[48 49 50 51 52 53 54 55]\n",
      "  [56 57 58 59 60 61 62 63]\n",
      "  [64 65 66 67 68 69 70 71]\n",
      "  [72 73 74 75 76 77 78 79]\n",
      "  [80 81 82 83 84 85 86 87]\n",
      "  [88 89 90 91 92 93 94 95]]]\n"
     ]
    }
   ],
   "source": [
    "# Creating a 3D array:\n",
    "a = np.arange(0, 96).reshape(2, 6, 8)\n",
    "print(a)"
   ]
  },
  {
   "cell_type": "code",
   "execution_count": 299,
   "metadata": {},
   "outputs": [
    {
     "name": "stdout",
     "output_type": "stream",
     "text": [
      "[3.19525402 3.86075747 3.4110535  3.17953273 2.6946192  3.58357645\n",
      " 2.75034885 4.567092   4.85465104 2.53376608]\n"
     ]
    }
   ],
   "source": [
    "# Radom numbers\n",
    "np.random.seed(0)  # set the seed to zero for reproducibility\n",
    "print(np.random.uniform(1,5,10))   # 10 random uniform numbers 1 to 5"
   ]
  },
  {
   "cell_type": "code",
   "execution_count": 300,
   "metadata": {},
   "outputs": [
    {
     "name": "stdout",
     "output_type": "stream",
     "text": [
      "[1.56889614 0.75267411 0.83943285 2.59825415 0.07368535]\n",
      "[[0.0871293  0.0202184  0.83261985 0.77815675]\n",
      " [0.87001215 0.97861834 0.79915856 0.46147936]]\n"
     ]
    }
   ],
   "source": [
    "print (np.random.exponential(1,5)) # 5 random exp numbers with rate 1\n",
    "print (np.random.random(8).reshape(2,4)) #8 random 0-1, 2 x 4 array"
   ]
  },
  {
   "cell_type": "code",
   "execution_count": 301,
   "metadata": {},
   "outputs": [
    {
     "name": "stdout",
     "output_type": "stream",
     "text": [
      "x =  [0.         1.57079633 3.14159265]\n",
      "\n",
      "sin(x) =  [0.0000000e+00 1.0000000e+00 1.2246468e-16]\n"
     ]
    }
   ],
   "source": [
    "# Trigonometric functions\n",
    "x = np.linspace(0,np.pi, 3)\n",
    "print('x = ', x)\n",
    "print (\"\\nsin(x) = \", np.sin(x))"
   ]
  },
  {
   "cell_type": "code",
   "execution_count": 302,
   "metadata": {},
   "outputs": [
    {
     "name": "stdout",
     "output_type": "stream",
     "text": [
      "[0.         1.57079633 3.14159265]\n"
     ]
    }
   ],
   "source": [
    "# Transpose Function\n",
    "print(x.T)  "
   ]
  },
  {
   "cell_type": "code",
   "execution_count": 303,
   "metadata": {},
   "outputs": [
    {
     "name": "stdout",
     "output_type": "stream",
     "text": [
      "[0 1 2 3 4 5 6 7 8 9]\n",
      "[0 1 2 3 4 5 6 7 8 9]\n"
     ]
    }
   ],
   "source": [
    "# Note what happens when you take a transpose of a rank 1 array\n",
    "rank1 = np.array([0, 1, 2, 3, 4, 5, 6, 7, 8, 9])\n",
    "print(rank1)\n",
    "print(rank1.T)"
   ]
  },
  {
   "cell_type": "markdown",
   "metadata": {},
   "source": [
    "___\n",
    "\n",
    "**Note:** NumPy is packaged with several useful functions for performing compuation on arrays. For a full list of the mathematical functions see [here](https://numpy.org/doc/stable/reference/routines.math.html).\n",
    "\n",
    "___"
   ]
  },
  {
   "cell_type": "markdown",
   "metadata": {},
   "source": [
    "<br>\n",
    "\n",
    "**Where**"
   ]
  },
  {
   "cell_type": "code",
   "execution_count": 304,
   "metadata": {},
   "outputs": [
    {
     "name": "stdout",
     "output_type": "stream",
     "text": [
      "[25 16  9  4  1  0  1  4  9 16]\n",
      "[False  True False  True False  True False  True False  True]\n"
     ]
    },
    {
     "data": {
      "text/plain": [
       "(array([1, 3, 5, 7, 9]),)"
      ]
     },
     "execution_count": 304,
     "metadata": {},
     "output_type": "execute_result"
    }
   ],
   "source": [
    "## Get coordinates from masks ##\n",
    "a = np.arange(-5,5) ** 2\n",
    "print(a)\n",
    "\n",
    "# Create mask\n",
    "mask = a % 2 == 0\n",
    "print(mask)\n",
    "\n",
    "# Get coordinates\n",
    "np.where(mask)"
   ]
  },
  {
   "cell_type": "code",
   "execution_count": 305,
   "metadata": {},
   "outputs": [
    {
     "name": "stdout",
     "output_type": "stream",
     "text": [
      "[ 0 -1  2 -3] \n",
      "\n",
      "[1 0 1 0] \n",
      "\n",
      "[ 1 -1  1 -3] \n",
      "\n"
     ]
    }
   ],
   "source": [
    "## Conditional array creation using masks ##\n",
    "b = np.arange(-2,2) ** 2\n",
    "\n",
    "# Create mask\n",
    "mask = b % 2 == 0\n",
    "\n",
    "# must be same dimensions\n",
    "pos = np.arange(4)\n",
    "negs = -pos\n",
    "\n",
    "# From shape\n",
    "print(np.where(mask, pos, negs), \"\\n\")\n",
    "\n",
    "# From scalars\n",
    "print(np.where(mask, 1, 0), \"\\n\")\n",
    "\n",
    "# From Shape and Scalars\n",
    "print(np.where(mask, 1, negs), \"\\n\")"
   ]
  },
  {
   "cell_type": "markdown",
   "metadata": {},
   "source": [
    "<br>\n",
    "\n",
    "**Statistics Methods**"
   ]
  },
  {
   "cell_type": "code",
   "execution_count": 291,
   "metadata": {},
   "outputs": [
    {
     "name": "stdout",
     "output_type": "stream",
     "text": [
      "[2. 5. 8.]\n",
      "[4. 5. 6.]\n",
      "[2.44948974 2.44948974 2.44948974]\n",
      "[3. 3. 3.]\n",
      "[6. 6. 6.]\n"
     ]
    }
   ],
   "source": [
    "c = np.array([[1, 2, 3], [4, 5, 6], [7, 8, 9]])\n",
    "\n",
    "# Mean of Each Row\n",
    "print(c.mean(axis=1))\n",
    "\n",
    "# Mean of Each Column\n",
    "print(c.mean(axis=0))\n",
    "\n",
    "# Standard Deviation\n",
    "print(c.std(axis=0))\n",
    "\n",
    "# Sample Standard Deviation\n",
    "print(c.std(axis=0, ddof=1))\n",
    "\n",
    "# Variance\n",
    "print(c.var(axis=0))"
   ]
  },
  {
   "cell_type": "markdown",
   "metadata": {},
   "source": [
    "<br>\n",
    "\n",
    "#### **2.2.3 Universal Function Methods**\n",
    "\n",
    "___"
   ]
  },
  {
   "cell_type": "markdown",
   "metadata": {},
   "source": [
    "```op.reduce( )``` - Applies ```op``` to all elements in a 1D array thus reducing it to a single value."
   ]
  },
  {
   "cell_type": "code",
   "execution_count": 306,
   "metadata": {},
   "outputs": [
    {
     "data": {
      "text/plain": [
       "15"
      ]
     },
     "execution_count": 306,
     "metadata": {},
     "output_type": "execute_result"
    }
   ],
   "source": [
    "# Add Example\n",
    "a = np.array([1, 2, 3, 4, 5])\n",
    "np.add.reduce(a)"
   ]
  },
  {
   "cell_type": "code",
   "execution_count": 308,
   "metadata": {},
   "outputs": [
    {
     "data": {
      "text/plain": [
       "'thisisonlyatest'"
      ]
     },
     "execution_count": 308,
     "metadata": {},
     "output_type": "execute_result"
    }
   ],
   "source": [
    "# String List Example\n",
    "b = np.array(['this', 'is', 'only', 'a', 'test'], dtype='object')\n",
    "np.add.reduce(b)"
   ]
  },
  {
   "cell_type": "code",
   "execution_count": 309,
   "metadata": {},
   "outputs": [
    {
     "name": "stdout",
     "output_type": "stream",
     "text": [
      "and =  False\n",
      "or  =  True\n"
     ]
    }
   ],
   "source": [
    "# Logical Example\n",
    "c = np.array([1, 1, 0, 0 , 1, 1])\n",
    "print(\"and = \", np.logical_and.reduce(c))\n",
    "print(\"or  = \", np.logical_or.reduce(c))"
   ]
  },
  {
   "cell_type": "markdown",
   "metadata": {},
   "source": [
    "<br>\n",
    "\n",
    "```op.accumulate( )``` - Applies ```reduce( )``` to all elements and creates a new array containing the iterative intermediate results of the operation."
   ]
  },
  {
   "cell_type": "code",
   "execution_count": 310,
   "metadata": {},
   "outputs": [
    {
     "data": {
      "text/plain": [
       "array([ 1,  3,  6, 10, 15])"
      ]
     },
     "execution_count": 310,
     "metadata": {},
     "output_type": "execute_result"
    }
   ],
   "source": [
    "# Add Example\n",
    "d = np.array([1, 2, 3, 4, 5])\n",
    "np.add.accumulate(d)"
   ]
  },
  {
   "cell_type": "code",
   "execution_count": 311,
   "metadata": {},
   "outputs": [
    {
     "data": {
      "text/plain": [
       "array(['these', 'thesetimes', 'thesetimesthat', 'thesetimesthattry',\n",
       "       'thesetimesthattry...'], dtype=object)"
      ]
     },
     "execution_count": 311,
     "metadata": {},
     "output_type": "execute_result"
    }
   ],
   "source": [
    "# String List Example\n",
    "e = np.array(['these', 'times', 'that', 'try', '...'], dtype='object')\n",
    "np.add.accumulate(e)"
   ]
  },
  {
   "cell_type": "code",
   "execution_count": 312,
   "metadata": {},
   "outputs": [
    {
     "name": "stdout",
     "output_type": "stream",
     "text": [
      "and =  [ True  True False False]\n",
      "or  =  [ True  True  True  True]\n"
     ]
    }
   ],
   "source": [
    "# Logical Example\n",
    "f = np.array([1, 1, 0, 0])\n",
    "print(\"and = \", np.logical_and.accumulate(f))\n",
    "print(\"or  = \", np.logical_or.accumulate(f))"
   ]
  },
  {
   "cell_type": "markdown",
   "metadata": {},
   "source": [
    "<br>\n",
    "\n",
    "```op.reduceat( )``` - Applies ```op``` to ranges in a 1D array defined by the values in ```indices```"
   ]
  },
  {
   "cell_type": "code",
   "execution_count": 315,
   "metadata": {},
   "outputs": [
    {
     "data": {
      "text/plain": [
       "array([6, 9])"
      ]
     },
     "execution_count": 315,
     "metadata": {},
     "output_type": "execute_result"
    }
   ],
   "source": [
    "g = np.array([0, 1, 2, 3, 4, 5])\n",
    "indices = np.array([1,4])\n",
    "np.add.reduceat(g, indices)"
   ]
  },
  {
   "cell_type": "markdown",
   "metadata": {},
   "source": [
    "<br>\n",
    "\n",
    "```op.outer(a,b)``` - Forms all possible combinations of elements between arrays ```a``` and ```b``` using operation ```op```.\n"
   ]
  },
  {
   "cell_type": "code",
   "execution_count": 317,
   "metadata": {},
   "outputs": [
    {
     "name": "stdout",
     "output_type": "stream",
     "text": [
      "[[0 1 2]\n",
      " [1 2 3]\n",
      " [2 3 4]\n",
      " [3 4 5]] \n",
      "\n",
      "[[0 1 2 3]\n",
      " [1 2 3 4]\n",
      " [2 3 4 5]]\n"
     ]
    }
   ],
   "source": [
    "h = np.array([0, 1, 2, 3])\n",
    "i = np.array([0, 1, 2])\n",
    "\n",
    "# order matters\n",
    "print(np.add.outer(h,i), \"\\n\")\n",
    "print(np.add.outer(i,h))"
   ]
  },
  {
   "cell_type": "markdown",
   "metadata": {},
   "source": [
    "___\n",
    "\n",
    "**Note:** For the complete list of **universal functions** see [here](https://numpy.org/doc/stable/reference/ufuncs.html#available-ufuncs) \n",
    "                                                                    \n",
    "___"
   ]
  },
  {
   "cell_type": "markdown",
   "metadata": {},
   "source": [
    "<!--Navigate back to table of contents-->\n",
    "<br>\n",
    "\n",
    "<div alig=\"right\" style=\"text-align: right\">\n",
    "    <span>\n",
    "        <a style=\"color:#FFFFFF; background-color:#003262; border:1px solid #FFFFFF; border-color:#FFFFFF;border-radius:5px;border-width:0px;display:inline-block;font-family:arial,helvetica,sans-serif;font-size:10px;letter-spacing:0px;line-height:10px;padding:10px 20px;text-align:center;text-decoration:none; align:center\" href=\"#Part_table_contents\" name=\"Table of Contents\"  id=\"Part_table_contents\"> \n",
    "            Table of Contents \n",
    "        </a>\n",
    "    </span>\n",
    "</div>\n",
    "<!-------------------------------------->"
   ]
  },
  {
   "cell_type": "markdown",
   "metadata": {},
   "source": [
    "<a id='Part_2_3'></a>\n",
    "\n",
    "<hr style=\"border: 1px solid#003262;\" />\n",
    "\n",
    "#### PART 2.3 (OPTIONAL): NUMPY ARRAYS VS PYTHON LISTS\n",
    "\n",
    "<br>\n",
    "\n",
    "<div align=\"center\" style=\"font-size:12px; font-family:FreeMono; font-weight: 100; font-stretch:ultra-condensed; line-height: 1.0; color:#2A2C2B\">\n",
    "    <img src=\"/assets/content/images/numpgraphs-18.png\" align=\"center\" width=\"50%\" padding=\"0px\"><br>\n",
    "    <br>\n",
    "    Arrays are like Lists, but different...\n",
    "</div>\n"
   ]
  },
  {
   "cell_type": "markdown",
   "metadata": {},
   "source": [
    "\n",
    "<br>\n",
    "\n",
    "A NumPy array is the high-performace multi-dimensional object that we've been working with. You may have noticed that a NumPy array is a grid of values that can be accessed in a manner that is similar to a Python List -- a core Python object. Other than NumPy arrays not being reseizable and containing only the same data type, what is the real difference between a NumPy array and a Python List? \n",
    "\n",
    "<br>"
   ]
  },
  {
   "cell_type": "code",
   "execution_count": 178,
   "metadata": {},
   "outputs": [],
   "source": [
    "import sys\n",
    "import time\n",
    "import numpy as np\n",
    "from timeit import Timer"
   ]
  },
  {
   "cell_type": "markdown",
   "metadata": {},
   "source": [
    "#### **2.3.1 Size, Performance, Speed, Functionality**\n",
    "\n",
    "___"
   ]
  },
  {
   "cell_type": "markdown",
   "metadata": {},
   "source": [
    "<br>\n",
    "\n",
    "#### **Size** - NumPy arrays take up less space than a Python List. "
   ]
  },
  {
   "cell_type": "code",
   "execution_count": 179,
   "metadata": {},
   "outputs": [
    {
     "name": "stdout",
     "output_type": "stream",
     "text": [
      "\n",
      "Array bytes per element:  8\n",
      "List bytes per element:  104\n"
     ]
    }
   ],
   "source": [
    "a = np.array([0, 1, 2, 3, 4])\n",
    "l = [0, 1, 2, 3, 4]\n",
    "\n",
    "# Size differences\n",
    "print(\"\\nArray bytes per element: \", a.itemsize)\n",
    "print(\"List bytes per element: \", sys.getsizeof(l))"
   ]
  },
  {
   "cell_type": "markdown",
   "metadata": {},
   "source": [
    "<br>\n",
    "\n",
    "#### **Performance** - NumPy has optimized functions which leads to higher faster computation speeds."
   ]
  },
  {
   "cell_type": "markdown",
   "metadata": {},
   "source": [
    "#### **Speed** - The following shows a performance comparison between NumPy arrays and Python Lists."
   ]
  },
  {
   "cell_type": "code",
   "execution_count": 192,
   "metadata": {},
   "outputs": [
    {
     "name": "stdout",
     "output_type": "stream",
     "text": [
      "List:  0.029081003012834117  Array:  0.00038204999873414636\n",
      "\n",
      "NumPy in this example is 23.60362694300518 faster!\n",
      "\n",
      "\n"
     ]
    }
   ],
   "source": [
    "size_of_vec = 10000\n",
    "\n",
    "def python_list():\n",
    "    t1 = time.time()\n",
    "    X = range(size_of_vec)\n",
    "    Y = range(size_of_vec)\n",
    "    Z = [X[i] + Y[i] for i in range(len(X)) ]\n",
    "    return time.time() - t1\n",
    "\n",
    "def numpy_array():\n",
    "    t1 = time.time()\n",
    "    X = np.arange(size_of_vec)\n",
    "    Y = np.arange(size_of_vec)\n",
    "    Z = X + Y\n",
    "    return time.time() - t1\n",
    "\n",
    "\n",
    "# store time as float\n",
    "t1 = python_list()\n",
    "t2 = numpy_array()\n",
    "\n",
    "# time it over iterations\n",
    "timer1 = Timer(\"python_list()\", \n",
    "                   \"from __main__ import python_list\")\n",
    "timer2 = Timer(\"numpy_array()\", \n",
    "                   \"from __main__ import numpy_array\")\n",
    "\n",
    "\n",
    "print(\"List: \" , timer1.timeit(10), \" Array: \" , timer2.timeit(10))\n",
    "print(\"\\nNumPy in this example is \" + str(t1/t2) + \" faster!\\n\\n\")"
   ]
  },
  {
   "cell_type": "markdown",
   "metadata": {},
   "source": [
    "#### **Functionality** - they are a like, but different"
   ]
  },
  {
   "cell_type": "code",
   "execution_count": 194,
   "metadata": {},
   "outputs": [
    {
     "name": "stdout",
     "output_type": "stream",
     "text": [
      "[0 1 2]\n"
     ]
    }
   ],
   "source": [
    "# Slicing returns a view in Numpy, \n",
    "# and not a copy as is the case with Python lists\n",
    "data = np.array(range(10))\n",
    "view = data[0:3]\n",
    "print(view)"
   ]
  },
  {
   "cell_type": "code",
   "execution_count": 195,
   "metadata": {},
   "outputs": [
    {
     "name": "stdout",
     "output_type": "stream",
     "text": [
      "[0, 1, 2]\n"
     ]
    }
   ],
   "source": [
    "l = list(range(10))\n",
    "copy = l[0:3]\n",
    "print(copy)"
   ]
  },
  {
   "cell_type": "code",
   "execution_count": 196,
   "metadata": {},
   "outputs": [
    {
     "name": "stdout",
     "output_type": "stream",
     "text": [
      "[99, 1, 2]\n",
      "[99  1  2]\n"
     ]
    }
   ],
   "source": [
    "copy[0] = 99\n",
    "view[0] = 99\n",
    "print(copy)\n",
    "print(view)"
   ]
  },
  {
   "cell_type": "code",
   "execution_count": 197,
   "metadata": {},
   "outputs": [
    {
     "name": "stdout",
     "output_type": "stream",
     "text": [
      "Python list: [0, 1, 2, 3, 4, 5, 6, 7, 8, 9]\n",
      "NumPy array: [99  1  2  3  4  5  6  7  8  9]\n"
     ]
    }
   ],
   "source": [
    "print('Python list:',l) # has not changed\n",
    "print('NumPy array:',data) # has changed"
   ]
  },
  {
   "cell_type": "code",
   "execution_count": 198,
   "metadata": {},
   "outputs": [
    {
     "name": "stdout",
     "output_type": "stream",
     "text": [
      "Array copy [0 1 2]\n"
     ]
    }
   ],
   "source": [
    "# Creating copies of the array instead of views\n",
    "data = np.array(range(10))\n",
    "arr_copy = data[:3].copy()\n",
    "print('Array copy',arr_copy)"
   ]
  },
  {
   "cell_type": "code",
   "execution_count": 199,
   "metadata": {},
   "outputs": [
    {
     "name": "stdout",
     "output_type": "stream",
     "text": [
      "New array copy [555   1   2]\n",
      "Original array [0 1 2 3 4 5 6 7 8 9]\n"
     ]
    }
   ],
   "source": [
    "arr_copy[0] = 555\n",
    "print('New array copy',arr_copy)\n",
    "print('Original array',data) # now it is not a view any more"
   ]
  },
  {
   "cell_type": "code",
   "execution_count": 200,
   "metadata": {},
   "outputs": [
    {
     "name": "stdout",
     "output_type": "stream",
     "text": [
      "[ 0  1  2  3  4  5  6  7  8  9 10 11 12 13 14 15 16 17 18 19]\n"
     ]
    }
   ],
   "source": [
    "# same thing with assignment, its not a copy, its the same data\n",
    "x = np.array(range(20))\n",
    "print (x)\n",
    "y = x"
   ]
  },
  {
   "cell_type": "code",
   "execution_count": 201,
   "metadata": {},
   "outputs": [],
   "source": [
    "# set value\n",
    "y[:] = 0"
   ]
  },
  {
   "cell_type": "code",
   "execution_count": 202,
   "metadata": {},
   "outputs": [
    {
     "name": "stdout",
     "output_type": "stream",
     "text": [
      "[0 0 0 0 0 0 0 0 0 0 0 0 0 0 0 0 0 0 0 0]\n"
     ]
    },
    {
     "data": {
      "text/plain": [
       "True"
      ]
     },
     "execution_count": 202,
     "metadata": {},
     "output_type": "execute_result"
    }
   ],
   "source": [
    "## sanity check ##\n",
    "print(x)\n",
    "\n",
    "x is y"
   ]
  },
  {
   "cell_type": "code",
   "execution_count": 203,
   "metadata": {},
   "outputs": [
    {
     "data": {
      "text/plain": [
       "False"
      ]
     },
     "execution_count": 203,
     "metadata": {},
     "output_type": "execute_result"
    }
   ],
   "source": [
    "x = [1,2]\n",
    "y = [1,2]\n",
    "x is y"
   ]
  },
  {
   "cell_type": "markdown",
   "metadata": {},
   "source": [
    "<!--Navigate back to table of contents-->\n",
    "<div align=\"left\" style=\"text-align: left; background-color:#003262;\">\n",
    "    <span>\n",
    "        <hr style=\"border: 8px solid#003262;\" />\n",
    "        <a style=\"color:#FFFFFF; background-color:#003262; border:1px solid #FFFFFF; border-color:#FFFFFF;border-radius:0px;border-width:0px;display:inline-block;font-family:arial,helvetica,sans-serif;font-size:24px;letter-spacing:0px;line-height:20px;padding:24px 40px;text-align:left;text-decoration:none; align:left\"> \n",
    "            <strong>CONCEPT</strong> CHECK \n",
    "        </a>        \n",
    "    </span>\n",
    "\n",
    "</div>\n",
    "<!-------------------------------------->\n",
    "\n",
    "> **Using the following, create two arrays from** ```data_array``` **one with 2/3 (training set) and one with 1/3 (testing set) of the data** \n",
    "\n",
    "<br>\n",
    "\n",
    "```python\n",
    "data_array = np.arange(1000)\n",
    "np.random.shuffle(data_array)\n",
    "\n",
    "train = \n",
    "test = \n",
    "```\n",
    "\n",
    "\n",
    "<hr style=\"border: 2px solid#003262;\" />"
   ]
  },
  {
   "cell_type": "code",
   "execution_count": 206,
   "metadata": {},
   "outputs": [],
   "source": [
    "# your code here\n"
   ]
  },
  {
   "cell_type": "markdown",
   "metadata": {},
   "source": [
    "<!--Navigate back to table of contents-->\n",
    "<br>\n",
    "\n",
    "<div alig=\"right\" style=\"text-align: right\">\n",
    "    <span>\n",
    "        <a style=\"color:#FFFFFF; background-color:#003262; border:1px solid #FFFFFF; border-color:#FFFFFF;border-radius:5px;border-width:0px;display:inline-block;font-family:arial,helvetica,sans-serif;font-size:10px;letter-spacing:0px;line-height:10px;padding:10px 20px;text-align:center;text-decoration:none; align:center\" href=\"#Part_table_contents\" name=\"Table of Contents\"  id=\"Part_table_contents\"> \n",
    "            Table of Contents \n",
    "        </a>\n",
    "    </span>\n",
    "</div>\n",
    "<!-------------------------------------->"
   ]
  },
  {
   "cell_type": "markdown",
   "metadata": {},
   "source": [
    "<a id='Part_2_4'></a>\n",
    "\n",
    "<hr style=\"border: 1px solid#003262;\" />\n",
    "\n",
    "#### PART 2.4 (OPTIONAL): ARRAY BROADCASTING\n",
    "\n",
    "<br>\n",
    "\n",
    "<div align=\"center\" style=\"font-size:12px; font-family:FreeMono; font-weight: 100; font-stretch:ultra-condensed; line-height: 1.0; color:#2A2C2B\">\n",
    "    <img src=\"/assets/content/images/numpgraphs-09.png\" align=\"center\" width=\"50%\" padding=\"0px\"><br>\n",
    "    <br>\n",
    "    Combining Arrays of Different Dimensions\n",
    "</div>\n"
   ]
  },
  {
   "cell_type": "markdown",
   "metadata": {},
   "source": [
    "<br>\n",
    "\n",
    "#### **2.4.1 Array Broadcasting - Two Steps**\n",
    "\n",
    "[**Broadcasting**](https://numpy.org/devdocs/user/theory.broadcasting.html) is usually treated as an advanced topic when learning NumPy. However, functions that support broadcasting -- [**universal functions**](https://numpy.org/doc/stable/reference/ufuncs.html#available-ufuncs) -- allow NumPy to work with arrays of different shapes when performing algorithmic computations. The idea is to use the smaller of a pair of arrays and use the smaller array repeatedly to perform some operation on the larger array -- without having to copy the data. The process functions as follows:\n",
    "\n",
    "<br>\n",
    "\n",
    ">**Step 1:** Prepend ones to the smaller array\n",
    "\n",
    "```python\n",
    ">>> import numpy as np\n",
    ">>> a = np.ones((3,5))\n",
    ">>> b = np.ones((5, ))\n",
    ">>> b.reshape(1,5)  # equivalently --> b[np.newaxis, :]\n",
    "```\n"
   ]
  },
  {
   "cell_type": "markdown",
   "metadata": {},
   "source": [
    ">**Step 2:** Dimensions of size 1 are repeated (without copying)\n",
    "\n",
    "```python\n",
    ">>> import numpy as np\n",
    ">>> c = a + b          # c.shape == (3,5)\n",
    "# logically equivalent to\n",
    ">>> temp_b = b.reshape(1,5)\n",
    ">>> temp_b_repeat = temp_b.repeat(3, axis=0)\n",
    "```\n",
    "___"
   ]
  },
  {
   "cell_type": "code",
   "execution_count": 208,
   "metadata": {},
   "outputs": [
    {
     "name": "stdout",
     "output_type": "stream",
     "text": [
      "[[ 4  5]\n",
      " [ 8 10]\n",
      " [12 15]]\n"
     ]
    }
   ],
   "source": [
    "#### SOME APPLICATIONS OF BROADCASTING ####\n",
    "'''\n",
    "    Credit --> https://web.eecs.umich.edu/~justincj/\n",
    "''';\n",
    "\n",
    "import numpy as np\n",
    "\n",
    "## 1. Compute outer product of vectors: ##\n",
    "v = np.array([1,2,3])  # v has shape (3,)\n",
    "w = np.array([4,5])    # w has shape (2,)\n",
    "\n",
    "'''\n",
    "    To compute an outer product, we first reshape v to be a column\n",
    "    vector of shape (3, 1); we can then broadcast it against w to yield\n",
    "    an output of shape (3, 2), which is the outer product of v and w:\n",
    "''';\n",
    "print(np.reshape(v, (3, 1)) * w)"
   ]
  },
  {
   "cell_type": "code",
   "execution_count": 209,
   "metadata": {},
   "outputs": [
    {
     "name": "stdout",
     "output_type": "stream",
     "text": [
      "[[2 4 6]\n",
      " [5 7 9]]\n"
     ]
    }
   ],
   "source": [
    "## 2. Add a vector to each row of a matrix: ##\n",
    "x = np.array([[1,2,3], [4,5,6]])\n",
    "\n",
    "'''\n",
    "    x has shape (2, 3) and v has shape (3,) so they broadcast to (2, 3),\n",
    "    giving the following matrix:\n",
    "    [[2 4 6]\n",
    "     [5 7 9]]\n",
    "''';\n",
    "print(x + v)"
   ]
  },
  {
   "cell_type": "code",
   "execution_count": 211,
   "metadata": {},
   "outputs": [
    {
     "name": "stdout",
     "output_type": "stream",
     "text": [
      "[[ 5  6  7]\n",
      " [ 9 10 11]]\n",
      "\n",
      " [[ 5  6  7]\n",
      " [ 9 10 11]]\n"
     ]
    }
   ],
   "source": [
    "## 3. Add a vector to each column of a matrix: ##\n",
    "\n",
    "'''\n",
    "    x has shape (2, 3) and w has shape (2,).\n",
    "    If we transpose x then it has shape (3, 2) and can be broadcast\n",
    "    against w to yield a result of shape (3, 2); transposing this result\n",
    "    yields the final result of shape (2, 3) which is the matrix x with\n",
    "    the vector w added to each column. Gives the following matrix:\n",
    "    [[ 5  6  7]\n",
    "     [ 9 10 11]]\n",
    "''';\n",
    "print((x.T + w).T)\n",
    "\n",
    "\n",
    "'''\n",
    "    Another solution is to reshape w to be a column vector of shape (2, 1);\n",
    "    we can then broadcast it directly against x to produce the same\n",
    "    output.\n",
    "''';\n",
    "print(\"\\n\", x + np.reshape(w, (2, 1)))"
   ]
  },
  {
   "cell_type": "code",
   "execution_count": 212,
   "metadata": {},
   "outputs": [
    {
     "name": "stdout",
     "output_type": "stream",
     "text": [
      "[[ 2  4  6]\n",
      " [ 8 10 12]]\n"
     ]
    }
   ],
   "source": [
    "## 4. Multiply a matrix by a constant: ##\n",
    "\n",
    "'''\n",
    "    x has shape (2, 3). Numpy treats scalars as arrays of shape ();\n",
    "    these can be broadcast together to shape (2, 3), producing the\n",
    "    following array:\n",
    "    [[ 2  4  6]\n",
    "     [ 8 10 12]]\n",
    "''';\n",
    "print(x * 2)"
   ]
  },
  {
   "cell_type": "code",
   "execution_count": 319,
   "metadata": {},
   "outputs": [
    {
     "data": {
      "text/plain": [
       "<matplotlib.colorbar.Colorbar at 0x7f4b85860978>"
      ]
     },
     "execution_count": 319,
     "metadata": {},
     "output_type": "execute_result"
    },
    {
     "data": {
      "image/png": "[encoded data removed]",
      "text/plain": [
       "<Figure size 720x432 with 2 Axes>"
      ]
     },
     "metadata": {
      "needs_background": "light"
     },
     "output_type": "display_data"
    }
   ],
   "source": [
    "## 5. Visualizing Distance From a Point ##\n",
    "import numpy as np\n",
    "import matplotlib.pyplot as plt\n",
    "\n",
    "a = np.linspace(0,1,15) - 0.5\n",
    "b = a[:, np.newaxis]       # b.shape == (15,1)\n",
    "dist_sqrd = a**2 + b**2    # broadcasting distance\n",
    "dist = np.sqrt(dist_sqrd)\n",
    "plt.imshow(dist)\n",
    "plt.colorbar()"
   ]
  },
  {
   "cell_type": "markdown",
   "metadata": {},
   "source": [
    "<!--Navigate back to table of contents-->\n",
    "<div alig=\"right\" style=\"text-align: right\">\n",
    "    <span>\n",
    "        <a style=\"color:#FFFFFF; background-color:#003262; border:1px solid #FFFFFF; border-color:#FFFFFF;border-radius:5px;border-width:0px;display:inline-block;font-family:arial,helvetica,sans-serif;font-size:10px;letter-spacing:0px;line-height:10px;padding:10px 20px;text-align:center;text-decoration:none; align:center\" href=\"#Part_table_contents\" name=\"Table of Contents\"  id=\"Part_table_contents\"> \n",
    "            Table of Contents \n",
    "        </a>\n",
    "    </span>\n",
    "</div>\n",
    "<!-------------------------------------->"
   ]
  },
  {
   "cell_type": "markdown",
   "metadata": {},
   "source": [
    "<a id='Part_2_5'></a>\n",
    "\n",
    "<hr style=\"border: 1px solid#003262;\" />\n",
    "\n",
    "#### PART 2.5 (OPTIONAL) NUMPY APPLICATION - PREDICTION USING ORDINARY LEAST SQUARES\n",
    "<br>\n",
    "\n",
    "<div align=\"center\" style=\"font-size:12px; font-family:FreeMono; font-weight: 100; font-stretch:ultra-condensed; line-height: 1.0; color:#2A2C2B\">\n",
    "    <img src=\"assets/content/images/numpy_logo.jpg\" align=\"center\" width=\"20%\" padding=\"0px\"><br>\n",
    "    <br>\n",
    "    \n",
    "</div>\n"
   ]
  },
  {
   "cell_type": "code",
   "execution_count": 321,
   "metadata": {},
   "outputs": [],
   "source": [
    "# Import libraries\n",
    "import numpy as np\n",
    "import matplotlib.pyplot as plt"
   ]
  },
  {
   "cell_type": "code",
   "execution_count": 322,
   "metadata": {},
   "outputs": [],
   "source": [
    "# Generate data w linear trend\n",
    "x = np.linspace(0,10,50)\n",
    "Y = 5 + x*2 + np.random.normal(0,2.5,len(x))"
   ]
  },
  {
   "cell_type": "code",
   "execution_count": 323,
   "metadata": {},
   "outputs": [
    {
     "data": {
      "image/png": "[encoded data removed]",
      "text/plain": [
       "<Figure size 720x432 with 1 Axes>"
      ]
     },
     "metadata": {
      "needs_background": "light"
     },
     "output_type": "display_data"
    }
   ],
   "source": [
    "# visualize relationship\n",
    "plt.scatter(x,Y);"
   ]
  },
  {
   "cell_type": "code",
   "execution_count": 329,
   "metadata": {},
   "outputs": [
    {
     "data": {
      "text/plain": [
       "array([[1.        , 0.        ],\n",
       "       [1.        , 0.20408163],\n",
       "       [1.        , 0.40816327],\n",
       "       [1.        , 0.6122449 ]])"
      ]
     },
     "execution_count": 329,
     "metadata": {},
     "output_type": "execute_result"
    }
   ],
   "source": [
    "# create seed for dot product\n",
    "X = np.column_stack([np.ones(len(x)),x])\n",
    "X[:4, :]"
   ]
  },
  {
   "cell_type": "markdown",
   "metadata": {},
   "source": [
    "<br>\n",
    "Remember:\n",
    "<br>\n",
    "<br>\n",
    "$Y \\in R^{50x1}, ~X \\in R^{50x2}, ~W \\in R^{2x1}$\n",
    "$$\\hat{Y} = XW$$\n",
    "$$ SE = (Y-XW)^2$$\n",
    "$$ \\nabla_W SE = 2X^T(Y-XW) = 0$$\n",
    "$$W_{ols} = (X^TX)^{-1}X^TY$$"
   ]
  },
  {
   "cell_type": "code",
   "execution_count": 330,
   "metadata": {},
   "outputs": [],
   "source": [
    "# extract trendline for prediction\n",
    "W = np.linalg.inv(X.T.dot(X)).dot(X.T).dot(Y)"
   ]
  },
  {
   "cell_type": "code",
   "execution_count": 331,
   "metadata": {},
   "outputs": [
    {
     "data": {
      "image/png": "[encoded data removed]",
      "text/plain": [
       "<Figure size 720x432 with 1 Axes>"
      ]
     },
     "metadata": {
      "needs_background": "light"
     },
     "output_type": "display_data"
    }
   ],
   "source": [
    "plt.scatter(x,Y);\n",
    "plt.plot(x,W[0]+W[1]*x,c='red');"
   ]
  },
  {
   "cell_type": "markdown",
   "metadata": {},
   "source": [
    "<!--Navigate back to table of contents-->\n",
    "<div alig=\"right\" style=\"text-align: right\">\n",
    "    <span>\n",
    "        <a style=\"color:#FFFFFF; background-color:#003262; border:1px solid #FFFFFF; border-color:#FFFFFF;border-radius:5px;border-width:0px;display:inline-block;font-family:arial,helvetica,sans-serif;font-size:10px;letter-spacing:0px;line-height:10px;padding:10px 20px;text-align:center;text-decoration:none; align:center\" href=\"#Part_table_contents\" name=\"Table of Contents\"  id=\"Part_table_contents\"> \n",
    "            Table of Contents \n",
    "        </a>\n",
    "    </span>\n",
    "</div>\n",
    "<!-------------------------------------->"
   ]
  },
  {
   "cell_type": "markdown",
   "metadata": {},
   "source": [
    "<a id='Part_3'></a>\n",
    "\n",
    "<hr style=\"border: 2px solid#003262;\" />\n",
    "\n",
    "#### PART 3\n",
    "\n",
    "## **WRAP-UP** AND **NEXT** STEPS\n",
    "\n",
    "\n",
    "<div align=\"center\">\n",
    "    <img src= \"/assets/content/datax_logos/DataX_icon_wide_logo.png\" align=\"center\" width=\"80%\" padding=\"20\">\n",
    "</div>\n",
    "\n",
    "<br>\n",
    "\n",
    "There is much more than can be done with NumPy. Wanting to learn how NumPy is used in the development cycle for neural networks, or how it's used for rapid data preprocessing?  Visit the [**Data-X website**](https://datax.berkeley.edu/) to learn more, or use the following links to some topics of interest:\n",
    "\n",
    "> [**INTRODUCTION TO NUMERICAL ANALSYS USING NUMPY (m110): url needed**]() Shows you how to deploy your Flask environment in an elastic server <br>\n",
    "> [**INTRODUCTION TO DATA VISUALIZATION USING MATPLOTLIB + SEABORN (m130): url needed**]() Covers the process of using DataFrames to create engaging visualizations <br>\n",
    "[**SYNTHETIC DATA GENERATION USING PANDAS (m190): url needed**]() Covers data augmentation (creating statistically valid data), and data correction (using ML to fill-in missing data)\n",
    "\n",
    "\n",
    "\n",
    "<br>\n",
    "\n",
    "<br>\n"
   ]
  },
  {
   "cell_type": "markdown",
   "metadata": {},
   "source": [
    "<a id='Appendix_1'></a>\n",
    "\n",
    "<hr style=\"border: 6px solid#003262;\" />\n",
    "\n",
    "\n",
    "#### APPENDIX I\n",
    "\n",
    "\n",
    "## PREREQUISITE **KNOWLEDGE** AND **REQUIREMENTS**\n",
    "\n",
    "\n",
    "[**Pandas**](https://pandas.pydata.org/about/) aims to be the fundamental high-level building block for doing practical, real-world data analysis in Python. General mastery of Pandas can make the discovery process of [**data engineering and machine learning**](https://chrisalbon.com/) easier to do, it can shorten the [**data science lifecyle**](https://docs.microsoft.com/en-us/azure/machine-learning/team-data-science-process/lifecycle), and can be combined with various visualization libraries to produce engaging [**data visualizations**](https://github.com/ehcastroh/visualizations_and_visual_storytelling).  <br>\n",
    "\n",
    "\n",
    "##### **PYTHON**\n",
    "This notebook and the executable files are built using [**Python**](https://www.python.org/) and relies on common Python packages (e.g. [**NumPy**](https://numpy.org/)) for operation. If you have a lot of programming experience in a different language (e.g. C/C++/Matlab/Java/Javascript), you will likely be fine, otherwise:\n",
    "\n",
    "> [**Python (EDX free)**](https://www.edx.org/course?search_query=python)<br>\n",
    "> [**Python (Coursera free)**](https://www.coursera.org/search?query=python)"
   ]
  },
  {
   "cell_type": "markdown",
   "metadata": {},
   "source": [
    "<a id='Appendix_2'></a>\n",
    "\n",
    "<hr style=\"border: 2px solid#003262;\" />\n",
    "\n",
    "#### APPENDIX II\n",
    "\n",
    "\n",
    "## **REFERENCES** AND ADDITIONAL **RESOURCES**\n",
    "\n",
    "<br>\n",
    "\n",
    "\n",
    ">[Numpy Manual](https://numpy.org/doc/stable/)<br>\n",
    ">[NumPy Array Progranming by Real Python](https://realpython.com/numpy-array-programming)<br>\n",
    ">[Python NumPy Tutorial for Beginners by FreeCodeCamp.org](https://youtu.be/QUT1VHiLmmI)<br>\n",
    ">[Introduction to Numerical Computing with NumPy by Alex Chabot-Leclerc](https://youtu.be/ZB7BZMhfPgk)<br>\n",
    ">[A Visual Intro to NumPy and Data Representation by Jay Alammar](http://jalammar.github.io/visual-numpy/)\n"
   ]
  },
  {
   "cell_type": "markdown",
   "metadata": {},
   "source": [
    "<!--Navigate back to table of contents-->\n",
    "<div alig=\"right\" style=\"text-align: right\">\n",
    "    <span>\n",
    "        <a style=\"color:#FFFFFF; background-color:#003262; border:1px solid #FFFFFF; border-color:#FFFFFF;border-radius:5px;border-width:0px;display:inline-block;font-family:arial,helvetica,sans-serif;font-size:10px;letter-spacing:0px;line-height:10px;padding:10px 20px;text-align:center;text-decoration:none; align:center\" href=\"#Part_table_contents\" name=\"Table of Contents\"  id=\"Part_table_contents\"> \n",
    "            Table of Contents \n",
    "        </a>\n",
    "    </span>\n",
    "</div>\n",
    "<!-------------------------------------->"
   ]
  },
  {
   "cell_type": "markdown",
   "metadata": {},
   "source": [
    "<hr style=\"border: 6px solid#003262;\" />\n"
   ]
  }
 ],
 "metadata": {
  "anaconda-cloud": {},
  "celltoolbar": "Slideshow",
  "kernelspec": {
   "display_name": "Python 3",
   "language": "python",
   "name": "python3"
  },
  "language_info": {
   "codemirror_mode": {
    "name": "ipython",
    "version": 3
   },
   "file_extension": ".py",
   "mimetype": "text/x-python",
   "name": "python",
   "nbconvert_exporter": "python",
   "pygments_lexer": "ipython3",
   "version": "3.6.10"
  },
  "livereveal": {
   "scroll": true
  },
  "rise": {
   "enable_chalkboard": true,
   "height": "90%",
   "width": "100%"
  }
 },
 "nbformat": 4,
 "nbformat_minor": 2
}
